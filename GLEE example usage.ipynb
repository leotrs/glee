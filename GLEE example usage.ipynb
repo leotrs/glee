{
 "cells": [
  {
   "cell_type": "markdown",
   "metadata": {},
   "source": [
    "# GLEE: Geometric Laplacian Eigenmap Embedding\n",
    "\n",
    "GLEE can be used in two different ways. This notebook contains an example use case when `glee` is imported into your Python session. For an example use case from the command line, see the README.md file."
   ]
  },
  {
   "cell_type": "markdown",
   "metadata": {},
   "source": [
    "## Example use case"
   ]
  },
  {
   "cell_type": "markdown",
   "metadata": {},
   "source": [
    "First, we load a small graph with $34$ nodes and compute its 8-dimensional embedding."
   ]
  },
  {
   "cell_type": "code",
   "execution_count": 1,
   "metadata": {},
   "outputs": [],
   "source": [
    "import networkx as nx\n",
    "graph = nx.karate_club_graph()\n",
    "\n",
    "from glee import eigenmaps\n",
    "emb = eigenmaps(graph, 8, method='glee')"
   ]
  },
  {
   "cell_type": "markdown",
   "metadata": {},
   "source": [
    "The result contains the embedding of each node as rows. The rows are ordered in the same order as `graph.nodes()`."
   ]
  },
  {
   "cell_type": "code",
   "execution_count": 2,
   "metadata": {},
   "outputs": [
    {
     "data": {
      "text/plain": [
       "(34, 8)"
      ]
     },
     "execution_count": 2,
     "metadata": {},
     "output_type": "execute_result"
    }
   ],
   "source": [
    "emb.shape"
   ]
  },
  {
   "cell_type": "markdown",
   "metadata": {},
   "source": [
    "Using the geometric interpretation of these embeddings, we can approximate the number of common neighbors between a pair of nodes."
   ]
  },
  {
   "cell_type": "code",
   "execution_count": 3,
   "metadata": {},
   "outputs": [],
   "source": [
    "import numpy as np\n",
    "\n",
    "def common(graph, emb):\n",
    "    pairs = [(i, j)\n",
    "             for i in range(graph.order())\n",
    "             for j in range(i + 1, graph.order())\n",
    "             if (i, j) not in graph.edges()]\n",
    "\n",
    "    common_neighbors = [len(set(graph.neighbors(i)) & set(graph.neighbors(j)))\n",
    "                        for (i, j) in pairs]\n",
    "\n",
    "    approx_common_neighbors = [- graph.degree(i) * \\\n",
    "                               np.sum([emb[i].dot(emb[n]) for n in graph.neighbors(j)]) / graph.degree(i)\n",
    "                               for (i, j) in pairs]\n",
    "    return common_neighbors, approx_common_neighbors"
   ]
  },
  {
   "cell_type": "code",
   "execution_count": 4,
   "metadata": {},
   "outputs": [
    {
     "data": {
      "text/plain": [
       "<Figure size 640x480 with 1 Axes>"
      ]
     },
     "metadata": {},
     "output_type": "display_data"
    }
   ],
   "source": [
    "import matplotlib.pylab as plt\n",
    "\n",
    "def make_plot(graph, emb):\n",
    "    plt.plot([0, 7], [0, 7], 'k--')\n",
    "    plt.scatter(*common(graph, emb))\n",
    "    plt.title('dim = 8')\n",
    "    plt.xlabel('True number of common neighbors')\n",
    "    plt.ylabel('Geometric approximation')\n",
    "    plt.show()\n",
    "    \n",
    "make_plot(graph, emb)"
   ]
  },
  {
   "cell_type": "markdown",
   "metadata": {},
   "source": [
    "Moreover, this approximation improves as the embedding dimension improves."
   ]
  },
  {
   "cell_type": "code",
   "execution_count": 5,
   "metadata": {},
   "outputs": [
    {
     "data": {
      "image/png": "[encoded data removed]",
      "text/plain": [
       "<Figure size 432x288 with 1 Axes>"
      ]
     },
     "metadata": {
      "needs_background": "light"
     },
     "output_type": "display_data"
    }
   ],
   "source": [
    "make_plot(graph, eigenmaps(graph, 32, method='glee'))"
   ]
  },
  {
   "cell_type": "markdown",
   "metadata": {},
   "source": [
    "## Visualization"
   ]
  },
  {
   "cell_type": "code",
   "execution_count": 6,
   "metadata": {},
   "outputs": [],
   "source": [
    "HL_COLOR = '#93c47dff'\n",
    "DEF_COLOR = '#999999'\n",
    "\n",
    "def plot_arrows(points, ax, highlight, hl_color=HL_COLOR, lines=None):\n",
    "    if lines is None:\n",
    "        lines = []\n",
    "    for idx, row in enumerate(points):\n",
    "        color = hl_color if idx in highlight else DEF_COLOR\n",
    "        if idx not in lines:\n",
    "            ax.annotate('', xy=row, xytext=(0, 0), annotation_clip=True,\n",
    "                        arrowprops={'headwidth': 3, 'headlength': 4,\n",
    "                                    'width': 1, 'color': color})\n",
    "        else:\n",
    "            ax.plot([0, row[0]], [0, row[1]], color=color)\n",
    "\n",
    "\n",
    "def plot_glee(points, highlight, max_val, lines=None):\n",
    "    \"\"\"PLot 2D-GLEE of a graph.\"\"\"\n",
    "    ax = plt.gca()\n",
    "    plot_arrows(points, ax, highlight, lines=lines)\n",
    "    ax.set_aspect('equal')\n",
    "    ax.set_ylim(-max_val, max_val)\n",
    "    ax.set_xlim(-max_val, max_val)\n",
    "    ax.xaxis.set_tick_params(labelsize=10)\n",
    "    ax.yaxis.set_tick_params(labelsize=10)\n",
    "    ax.set_xticks([-1, 0, 1])\n",
    "    ax.set_yticks([-1, 0, 1])\n",
    "\n",
    "def plot_perpendicular(ax, row, neighbors):\n",
    "    perp = np.array([-row[1], row[0]])\n",
    "    points = np.array([-20*perp, 20*perp])\n",
    "    ax.plot(points.T[0], points.T[1], ':')\n",
    "    # just draw over the previous\n",
    "    highlight = list(range(len(neighbors)))\n",
    "    plot_arrows(neighbors, ax, highlight, hl_color='#8e7cc3ff')\n",
    "\n",
    "\n",
    "def plot_karate(hl_node):\n",
    "    plt.figure()\n",
    "    graph = nx.karate_club_graph()\n",
    "    simpl = eigenmaps(graph, method='glee', dim=2)\n",
    "    # The eigenvectors can rotate, and for this picture we want a\n",
    "    # particular orientation/rotation of them.\n",
    "    while not np.allclose(simpl[0], [-0.82511663, -3.885854]):\n",
    "        simpl = eigenmaps(graph, method='glee', dim=2)\n",
    "\n",
    "    plot_glee(simpl, [hl_node], 1, [0, 32, 33])\n",
    "    plot_perpendicular(plt.gca(), simpl[hl_node], [simpl[n] for n in graph.neighbors(hl_node)])\n",
    "    plt.gca().set_xticks([-0.2, 0, 0.2, 0.4, 0.6])\n",
    "    plt.gca().set_yticks([-0.2, 0, 0.2, 0.4, 0.6])\n",
    "    plt.xlim(-0.3, 0.6)\n",
    "    plt.ylim(-0.3, 0.6)\n"
   ]
  },
  {
   "cell_type": "code",
   "execution_count": 7,
   "metadata": {},
   "outputs": [
    {
     "data": {
      "image/png": "[encoded data removed]",
      "text/plain": [
       "<Figure size 432x288 with 1 Axes>"
      ]
     },
     "metadata": {
      "needs_background": "light"
     },
     "output_type": "display_data"
    }
   ],
   "source": [
    "plot_karate(0)\n",
    "plt.show()"
   ]
  },
  {
   "cell_type": "markdown",
   "metadata": {},
   "source": [
    "In the figure, the dotted blue line is orthogonal to the embedding of node $0$ (green). Neighbors of the green noe are in purple. Non-neighbors in gray."
   ]
  },
  {
   "cell_type": "code",
   "execution_count": null,
   "metadata": {},
   "outputs": [],
   "source": []
  }
 ],
 "metadata": {
  "kernelspec": {
   "display_name": "Python 3",
   "language": "python",
   "name": "python3"
  },
  "language_info": {
   "codemirror_mode": {
    "name": "ipython",
    "version": 3
   },
   "file_extension": ".py",
   "mimetype": "text/x-python",
   "name": "python",
   "nbconvert_exporter": "python",
   "pygments_lexer": "ipython3",
   "version": "3.6.9"
  },
  "latex_envs": {
   "LaTeX_envs_menu_present": true,
   "autoclose": false,
   "autocomplete": false,
   "bibliofile": "biblio.bib",
   "cite_by": "apalike",
   "current_citInitial": 1,
   "eqLabelWithNumbers": true,
   "eqNumInitial": 1,
   "hotkeys": {
    "equation": "Ctrl-E",
    "itemize": "Ctrl-I"
   },
   "labels_anchors": false,
   "latex_user_defs": false,
   "report_style_numbering": true,
   "user_envs_cfg": false
  }
 },
 "nbformat": 4,
 "nbformat_minor": 1
}
